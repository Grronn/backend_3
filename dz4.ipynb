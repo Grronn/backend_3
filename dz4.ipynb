{
  "nbformat": 4,
  "nbformat_minor": 0,
  "metadata": {
    "colab": {
      "provenance": []
    },
    "kernelspec": {
      "name": "python3",
      "display_name": "Python 3"
    },
    "language_info": {
      "name": "python"
    }
  },
  "cells": [
    {
      "cell_type": "code",
      "source": [
        "class Stack:\n",
        "    def __init__(self):\n",
        "        self.stack = []\n",
        "    def pop(self):\n",
        "        return self.stack.pop()\n",
        "    def push(self, item):\n",
        "        self.stack.append(item)\n",
        "    def clear(self):\n",
        "        self.stack.clear()\n",
        "    def __len__(self):\n",
        "        return len(self.stack)\n",
        "\n",
        "def correctBrackets(text):\n",
        "    dictOfBrackets = {\n",
        "              \"(\": \")\",\n",
        "              \"{\": \"}\",\n",
        "              \"[\": \"]\"\n",
        "              }\n",
        "    stack = Stack()\n",
        "    stack.clear()\n",
        "    for i, char in enumerate(text, 1):\n",
        "        if char in dictOfBrackets.keys():\n",
        "            stack.push(char) #добавляем в конец стека открывающую скобку\n",
        "        elif char in dictOfBrackets.values():\n",
        "            if len(stack) == 0 or dictOfBrackets[stack.pop()] != char: #pop берет скобку из конца стека\n",
        "                return i #если стек уже пустой, то закрывающая скобка лишняя, или если закрывающая скобка не соответсвует открывающей\n",
        "\n",
        "    if len(stack) > 0:\n",
        "        return text.index(stack.pop()) + 1\n",
        "\n",
        "    return \"Success\"\n",
        "\n",
        "\n",
        "\n",
        "print(correctBrackets(\"[{}([])]\"))\n",
        "print(correctBrackets(\"def function[T](value: T -> T:\"))\n",
        "print(correctBrackets(\"[())]\"))\n",
        "\n",
        "print('def function[T](value: T -> T:'[16-1])"
      ],
      "metadata": {
        "colab": {
          "base_uri": "https://localhost:8080/"
        },
        "id": "THpsrkq6mRrH",
        "outputId": "0d3557d8-149d-448e-ff72-373d1f51c10c"
      },
      "execution_count": 75,
      "outputs": [
        {
          "output_type": "stream",
          "name": "stdout",
          "text": [
            "Success\n",
            "16\n",
            "4\n",
            "(\n"
          ]
        }
      ]
    }
  ]
}